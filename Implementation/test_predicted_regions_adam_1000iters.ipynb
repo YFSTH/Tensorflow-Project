{
 "cells": [
  {
   "cell_type": "code",
   "execution_count": 7,
   "metadata": {
    "scrolled": false
   },
   "outputs": [
    {
     "data": {
      "image/png": "[encoded data removed]",
      "text/plain": [
       "<matplotlib.figure.Figure at 0x24b18776f98>"
      ]
     },
     "metadata": {},
     "output_type": "display_data"
    },
    {
     "data": {
      "image/png": "[encoded data removed]",
      "text/plain": [
       "<matplotlib.figure.Figure at 0x24b19d015f8>"
      ]
     },
     "metadata": {},
     "output_type": "display_data"
    },
    {
     "name": "stdout",
     "output_type": "stream",
     "text": [
      "[[[  1.  38. 161.  56.  56.   0.   2.]\n",
      "  [  0.  86. 153.  56.  56.   0.   2.]\n",
      "  [  2. 105. 169.  56.  56.   0.   2.]\n",
      "  [  5. 168.  96.  56.  56.   0.   2.]\n",
      "  [ -9.  -9.  -9.  -9.  -9.  -9.  -9.]]]\n",
      "predictions tensor:\n",
      "x: 88.47269\n",
      "y: 161.44759\n",
      "w: 50.420162\n",
      "h: 49.412186\n",
      "x: 87.755295\n",
      "y: 173.36287\n",
      "w: 57.336647\n",
      "h: 59.906887\n",
      "x: 86.00257\n",
      "y: 169.81168\n",
      "w: 60.143375\n",
      "h: 51.272247\n",
      "x: 86.39661\n",
      "y: 165.12186\n",
      "w: 59.606762\n",
      "h: 44.005497\n",
      "x: 89.87806\n",
      "y: 155.13928\n",
      "w: 53.031693\n",
      "h: 52.861996\n",
      "x: 85.607025\n",
      "y: 159.20445\n",
      "w: 50.420162\n",
      "h: 46.084587\n",
      "x: 84.1305\n",
      "y: 159.0487\n",
      "w: 45.718098\n",
      "h: 34.009953\n",
      "x: 94.732216\n",
      "y: 161.44759\n",
      "w: 44.96341\n",
      "h: 49.385\n",
      "x: 92.169586\n",
      "y: 177.33704\n",
      "w: 45.153564\n",
      "h: 76.87834\n",
      "x: 89.58235\n",
      "y: 157.87694\n",
      "w: 42.108795\n",
      "h: 49.412186\n"
     ]
    }
   ],
   "source": [
    "%matplotlib inline\n",
    "\n",
    "import pickle\n",
    "import pdb\n",
    "import numpy as np\n",
    "\n",
    "with open('dump.pkl', 'rb') as file:\n",
    "    [imgs, labels, preds, cp, tx_, ty_, tw_, th_, px_, py_, pw_, ph_, ttgs, tpx_, tpy_, tpw_, tph_, tarx_, tary_, tarw_, tarh_, gtt, slt, reg_loss_list, cls_loss_list, oal_loss_list, f, l] = pickle.load(file)\n",
    "\n",
    "# plot cost development\n",
    "import matplotlib.pyplot as plt\n",
    "plt.figure()\n",
    "plt.plot(reg_loss_list, label='reg loss')\n",
    "plt.plot(cls_loss_list, label='cls loss')\n",
    "plt.plot(oal_loss_list, label='overall loss')\n",
    "plt.legend()\n",
    "plt.show()\n",
    "\n",
    "#pdb.set_trace()\n",
    "\n",
    "plt.imshow(imgs[0,:,:]); plt.show()\n",
    "print(labels)\n",
    "print('predictions tensor:')\n",
    "# shape: (1, 16, 16, 36)\n",
    "#for i in range(9):\n",
    "#print('0:')\n",
    "print('x:',np.mean(preds[0, 6, 10,  [np.arange(0,9)]]))\n",
    "#pdb.set_trace()\n",
    "#print('x:',preds[0, 10, 2,  0])\n",
    "#print('x:',preds[0, 10, 2,  9])\n",
    "#print('x:',p10, 2,0, 10, 2,  18])\n",
    "#print('x:',preds[0, 10, 2,  27])\n",
    "print('y:',np.median(preds[0, 6, 10,  [np.arange(0,9)+9]]))\n",
    "print('w:',np.median(preds[0, 6, 10, [np.arange(0,9)+18]]))\n",
    "print('h:',np.median(preds[0, 6, 10, [np.arange(0,9)+27]]))\n",
    "#print('2:')\n",
    "#print('x:',np.mean(preds[0, 6, 10,  [np.arange(0,9)]]))\n",
    "#print('y:',np.mean(preds[0, 6, 10,  [np.arange(0,9)+9]]))\n",
    "#print('w:',np.mean(preds[0, 6, 10, [np.arange(0,9)+18]]))\n",
    "#print('h:',np.mean(preds[0, 6, 10, [np.arange(0,9)+27]]))\n",
    "#print('x:',np.mean(preds[0, 5, 9,  [np.arange(0,9)]]))\n",
    "#print('y:',np.mean(preds[0, 5, 9,  [np.arange(0,9)+9]]))\n",
    "#print('w:',np.mean(preds[0, 5, 9, [np.arange(0,9)+18]]))\n",
    "#print('h:',np.mean(preds[0, 5, 9, [np.arange(0,9)+27]]))\n",
    "#print('x:',preds[0, 2, 10,  0])\n",
    "#print('y:',np.mean(preds[0, 2, 10,  9]))\n",
    "#print('w:',np.mean(preds[0, 2, 10, 18]))\n",
    "#print('h:',np.mean(preds[0, 2, 10, 27]))\n",
    "\n",
    "#print('ground truth tensor tensor:')\n",
    "# gtt shape: (1, 16, 16, 36)\n",
    "for t in range(9):\n",
    "    print('x:', preds[0, 6, 10, t+0])\n",
    "    print('y:', preds[0, 6, 10, t+9])\n",
    "    print('w:', preds[0, 6, 10,t+18])\n",
    "    print('h:', preds[0, 6, 10,t+27])\n",
    "    # results in a tensor with shape (1, IMG_SIZE, IMG_SIZE, 36)\n",
    "    #print('tensor',t,':',slt[0, :, :, t, 1])\n",
    "#print('y:', slt[i, 0, :, :, ])\n",
    "#print('w:', slt[i, 0, :, :,18])\n",
    "#print('h:', slt[i, 0, :, :,27])\n",
    "# slt shape: (1, 16, 16, 9, 3)\n",
    "\n"
   ]
  },
  {
   "cell_type": "code",
   "execution_count": null,
   "metadata": {},
   "outputs": [],
   "source": []
  },
  {
   "cell_type": "code",
   "execution_count": null,
   "metadata": {},
   "outputs": [],
   "source": []
  }
 ],
 "metadata": {
  "kernelspec": {
   "display_name": "Python 3",
   "language": "python",
   "name": "python3"
  },
  "language_info": {
   "codemirror_mode": {
    "name": "ipython",
    "version": 3
   },
   "file_extension": ".py",
   "mimetype": "text/x-python",
   "name": "python",
   "nbconvert_exporter": "python",
   "pygments_lexer": "ipython3",
   "version": "3.6.4"
  }
 },
 "nbformat": 4,
 "nbformat_minor": 2
}
