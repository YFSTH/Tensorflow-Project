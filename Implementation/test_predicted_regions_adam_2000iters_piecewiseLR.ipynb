{
 "cells": [
  {
   "cell_type": "code",
   "execution_count": 2,
   "metadata": {},
   "outputs": [
    {
     "data": {
      "image/png": "[encoded data removed]",
      "text/plain": [
       "<matplotlib.figure.Figure at 0x1a62f65f400>"
      ]
     },
     "metadata": {},
     "output_type": "display_data"
    },
    {
     "data": {
      "image/png": "[encoded data removed]",
      "text/plain": [
       "<matplotlib.figure.Figure at 0x1a62f718518>"
      ]
     },
     "metadata": {},
     "output_type": "display_data"
    },
    {
     "name": "stdout",
     "output_type": "stream",
     "text": [
      "[[[  1.  38. 161.  56.  56.   0.   2.]\n",
      "  [  0.  86. 153.  56.  56.   0.   2.]\n",
      "  [  2. 105. 169.  56.  56.   0.   2.]\n",
      "  [  5. 168.  96.  56.  56.   0.   2.]\n",
      "  [ -9.  -9.  -9.  -9.  -9.  -9.  -9.]]]\n",
      "predictions tensor:\n",
      "x: 110.30263\n",
      "y: 172.23454\n",
      "w: 53.513474\n",
      "h: 56.160034\n",
      "x: 115.955536\n",
      "y: 169.95624\n",
      "w: 50.476814\n",
      "h: 50.374622\n",
      "x: 109.80102\n",
      "y: 172.23454\n",
      "w: 53.513474\n",
      "h: 54.621506\n",
      "x: 112.33967\n",
      "y: 175.0611\n",
      "w: 52.673317\n",
      "h: 56.614025\n",
      "x: 118.3137\n",
      "y: 178.59161\n",
      "w: 50.141552\n",
      "h: 54.45893\n",
      "x: 112.51114\n",
      "y: 169.41963\n",
      "w: 59.700764\n",
      "h: 86.38479\n",
      "x: 109.07561\n",
      "y: 174.06827\n",
      "w: 55.25676\n",
      "h: 56.160034\n",
      "x: 106.4495\n",
      "y: 170.23625\n",
      "w: 53.56125\n",
      "h: 58.9207\n",
      "x: 110.07945\n",
      "y: 177.52245\n",
      "w: 67.1474\n",
      "h: 52.71667\n",
      "x: 110.30263\n",
      "y: 162.99785\n",
      "w: 50.086803\n",
      "h: 58.69757\n"
     ]
    }
   ],
   "source": [
    "%matplotlib inline\n",
    "\n",
    "import pickle\n",
    "import pdb\n",
    "import numpy as np\n",
    "\n",
    "with open('dump.pkl', 'rb') as file:\n",
    "    [imgs, labels, preds, cp, tx_, ty_, tw_, th_, px_, py_, pw_, ph_, ttgs, tpx_, tpy_, tpw_, tph_, tarx_, tary_, tarw_, tarh_, gtt, slt, reg_loss_list, cls_loss_list, oal_loss_list, f, l] = pickle.load(file)\n",
    "\n",
    "# plot cost development\n",
    "import matplotlib.pyplot as plt\n",
    "plt.figure()\n",
    "plt.plot(reg_loss_list, label='reg loss')\n",
    "plt.plot(cls_loss_list, label='cls loss')\n",
    "plt.plot(oal_loss_list, label='overall loss')\n",
    "plt.legend()\n",
    "plt.show()\n",
    "\n",
    "#pdb.set_trace()\n",
    "\n",
    "plt.imshow(imgs[0,:,:]); plt.show()\n",
    "print(labels)\n",
    "print('predictions tensor:')\n",
    "# shape: (1, 16, 16, 36)\n",
    "#for i in range(9):\n",
    "#print('0:')\n",
    "print('x:',np.median(preds[0, 6, 10,  [np.arange(0,9)]]))\n",
    "#pdb.set_trace()\n",
    "#print('x:',preds[0, 10, 2,  0])\n",
    "#print('x:',preds[0, 10, 2,  9])\n",
    "#print('x:',p10, 2,0, 10, 2,  18])\n",
    "#print('x:',preds[0, 10, 2,  27])\n",
    "print('y:',np.median(preds[0, 6, 10,  [np.arange(0,9)+9]]))\n",
    "print('w:',np.median(preds[0, 6, 10, [np.arange(0,9)+18]]))\n",
    "print('h:',np.median(preds[0, 6, 10, [np.arange(0,9)+27]]))\n",
    "#print('2:')\n",
    "#print('x:',np.mean(preds[0, 6, 10,  [np.arange(0,9)]]))\n",
    "#print('y:',np.mean(preds[0, 6, 10,  [np.arange(0,9)+9]]))\n",
    "#print('w:',np.mean(preds[0, 6, 10, [np.arange(0,9)+18]]))\n",
    "#print('h:',np.mean(preds[0, 6, 10, [np.arange(0,9)+27]]))\n",
    "#print('x:',np.mean(preds[0, 5, 9,  [np.arange(0,9)]]))\n",
    "#print('y:',np.mean(preds[0, 5, 9,  [np.arange(0,9)+9]]))\n",
    "#print('w:',np.mean(preds[0, 5, 9, [np.arange(0,9)+18]]))\n",
    "#print('h:',np.mean(preds[0, 5, 9, [np.arange(0,9)+27]]))\n",
    "#print('x:',preds[0, 2, 10,  0])\n",
    "#print('y:',np.mean(preds[0, 2, 10,  9]))\n",
    "#print('w:',np.mean(preds[0, 2, 10, 18]))\n",
    "#print('h:',np.mean(preds[0, 2, 10, 27]))\n",
    "\n",
    "#print('ground truth tensor tensor:')\n",
    "# gtt shape: (1, 16, 16, 36)\n",
    "for t in range(9):\n",
    "    print('x:', preds[0, 6, 10, t+0])\n",
    "    print('y:', preds[0, 6, 10, t+9])\n",
    "    print('w:', preds[0, 6, 10,t+18])\n",
    "    print('h:', preds[0, 6, 10,t+27])\n",
    "    # results in a tensor with shape (1, IMG_SIZE, IMG_SIZE, 36)\n",
    "    #print('tensor',t,':',slt[0, :, :, t, 1])\n",
    "#print('y:', slt[i, 0, :, :, ])\n",
    "#print('w:', slt[i, 0, :, :,18])\n",
    "#print('h:', slt[i, 0, :, :,27])\n",
    "# slt shape: (1, 16, 16, 9, 3)\n",
    "\n"
   ]
  },
  {
   "cell_type": "code",
   "execution_count": null,
   "metadata": {},
   "outputs": [],
   "source": []
  }
 ],
 "metadata": {
  "kernelspec": {
   "display_name": "Python 3",
   "language": "python",
   "name": "python3"
  },
  "language_info": {
   "codemirror_mode": {
    "name": "ipython",
    "version": 3
   },
   "file_extension": ".py",
   "mimetype": "text/x-python",
   "name": "python",
   "nbconvert_exporter": "python",
   "pygments_lexer": "ipython3",
   "version": "3.6.4"
  }
 },
 "nbformat": 4,
 "nbformat_minor": 2
}
